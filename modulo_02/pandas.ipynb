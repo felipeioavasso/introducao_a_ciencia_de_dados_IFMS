{
 "cells": [
  {
   "cell_type": "markdown",
   "metadata": {},
   "source": [
    "Importar a biblioteca"
   ]
  },
  {
   "cell_type": "code",
   "execution_count": 4,
   "metadata": {},
   "outputs": [],
   "source": [
    "import pandas as pd\n",
    "import numpy as np"
   ]
  },
  {
   "cell_type": "markdown",
   "metadata": {},
   "source": [
    "Funções para ler diferentes tipos de arquivos(CSV, EXCEL, JSON e etc)"
   ]
  },
  {
   "cell_type": "markdown",
   "metadata": {},
   "source": [
    "Para ler arquivos CSV:"
   ]
  },
  {
   "cell_type": "code",
   "execution_count": 10,
   "metadata": {},
   "outputs": [
    {
     "name": "stdout",
     "output_type": "stream",
     "text": [
      "Arquivo carregado com sucesso!\n"
     ]
    }
   ],
   "source": [
    "try:\n",
    "    df = pd.read_csv('arquivos/iris.data')\n",
    "    print('Arquivo carregado com sucesso!')\n",
    "except FileNotFoundError:\n",
    "    print('Arquivo não encontrado.')\n",
    "except Exception as e:\n",
    "    print(f'Ocorreu um erro: {e}')"
   ]
  },
  {
   "cell_type": "markdown",
   "metadata": {},
   "source": [
    "Ler arquivos Excel:"
   ]
  },
  {
   "cell_type": "code",
   "execution_count": null,
   "metadata": {},
   "outputs": [],
   "source": [
    "#df = pd.read_excel('')\n",
    "df = pd.read_excel('nome_do_arquivo', sheet_name='nome_da_planilha')\n"
   ]
  },
  {
   "cell_type": "markdown",
   "metadata": {},
   "source": [
    "Ler arquivos JSON:"
   ]
  },
  {
   "cell_type": "code",
   "execution_count": null,
   "metadata": {},
   "outputs": [],
   "source": [
    "df = pd.read_json('')"
   ]
  }
 ],
 "metadata": {
  "kernelspec": {
   "display_name": "cienciaDeDados",
   "language": "python",
   "name": "cienciadedados"
  },
  "language_info": {
   "codemirror_mode": {
    "name": "ipython",
    "version": 3
   },
   "file_extension": ".py",
   "mimetype": "text/x-python",
   "name": "python",
   "nbconvert_exporter": "python",
   "pygments_lexer": "ipython3",
   "version": "3.10.11"
  }
 },
 "nbformat": 4,
 "nbformat_minor": 2
}
