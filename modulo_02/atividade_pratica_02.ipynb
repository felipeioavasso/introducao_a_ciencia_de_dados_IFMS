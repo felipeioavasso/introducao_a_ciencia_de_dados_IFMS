{
 "cells": [
  {
   "cell_type": "code",
   "execution_count": 1,
   "metadata": {},
   "outputs": [],
   "source": [
    "import pandas as pd\n",
    "import numpy as np"
   ]
  },
  {
   "cell_type": "markdown",
   "metadata": {},
   "source": [
    "1. Escreva um programa que crie uma matriz aleatória de 3x3 utilizando a biblioteca NumPy e, em seguida, imprima a matriz transposta.\n",
    "Para criar uma matriz aleatória de 3x3, você pode usar a função numpy.random.rand(). Para obter a matriz transposta, você pode usar o método numpy.transpose()."
   ]
  },
  {
   "cell_type": "code",
   "execution_count": 3,
   "metadata": {},
   "outputs": [
    {
     "data": {
      "text/plain": [
       "array([[41.33406036,  0.6726062 ,  1.34202575],\n",
       "       [40.11693188, 36.91686009, 70.07167159],\n",
       "       [66.17963799, 70.02490973,  2.3594008 ]])"
      ]
     },
     "execution_count": 3,
     "metadata": {},
     "output_type": "execute_result"
    }
   ],
   "source": [
    "arr_aleatoria = np.random.rand(3,3) * 100\n",
    "arr_aleatoria"
   ]
  },
  {
   "cell_type": "code",
   "execution_count": 5,
   "metadata": {},
   "outputs": [
    {
     "data": {
      "text/plain": [
       "array([[41.33406036, 40.11693188, 66.17963799],\n",
       "       [ 0.6726062 , 36.91686009, 70.02490973],\n",
       "       [ 1.34202575, 70.07167159,  2.3594008 ]])"
      ]
     },
     "execution_count": 5,
     "metadata": {},
     "output_type": "execute_result"
    }
   ],
   "source": [
    "arr_transposta = np.transpose(arr_aleatoria)\n",
    "arr_transposta"
   ]
  },
  {
   "cell_type": "markdown",
   "metadata": {},
   "source": [
    "2. Escreva um programa que crie um dataframe com informações de produtos e preços e, em seguida, calcule a média de preços dos produtos.\n",
    "Para criar o dataframe, você pode usar a função pandas.DataFrame() e passar um dicionário com as informações dos produtos e preços. Para calcular a média de preços, você pode usar o método pandas.DataFrame.mean()."
   ]
  },
  {
   "cell_type": "code",
   "execution_count": 6,
   "metadata": {},
   "outputs": [],
   "source": [
    "# Criando dicionário\n",
    "dados = {\n",
    "    'Produtos'  : ['Produto A', 'Produto B', 'Produto C', 'Produto C'],\n",
    "    'Preços'    : [5.99, 25.50, 6.17, 8.51]\n",
    "}"
   ]
  },
  {
   "cell_type": "code",
   "execution_count": 7,
   "metadata": {},
   "outputs": [],
   "source": [
    "# Criar o dataframe\n",
    "df = pd.DataFrame(dados)"
   ]
  },
  {
   "cell_type": "code",
   "execution_count": 12,
   "metadata": {},
   "outputs": [
    {
     "name": "stdout",
     "output_type": "stream",
     "text": [
      "A média dos preços é igual a: Preços    11.5425\n",
      "dtype: float64\n"
     ]
    }
   ],
   "source": [
    "numeric_df = df.select_dtypes(include=[float, int])\n",
    "mean_values = numeric_df.mean()\n",
    "print(f'A média dos preços é igual a: {mean_values}')"
   ]
  },
  {
   "cell_type": "markdown",
   "metadata": {},
   "source": [
    "OU"
   ]
  },
  {
   "cell_type": "code",
   "execution_count": 13,
   "metadata": {},
   "outputs": [
    {
     "name": "stdout",
     "output_type": "stream",
     "text": [
      "A média dos preços é igual a: 11.5425\n"
     ]
    }
   ],
   "source": [
    "media_precos = df['Preços'].mean()\n",
    "print(f'A média dos preços é igual a: {media_precos}')"
   ]
  }
 ],
 "metadata": {
  "kernelspec": {
   "display_name": "cienciaDeDados",
   "language": "python",
   "name": "cienciadedados"
  },
  "language_info": {
   "codemirror_mode": {
    "name": "ipython",
    "version": 3
   },
   "file_extension": ".py",
   "mimetype": "text/x-python",
   "name": "python",
   "nbconvert_exporter": "python",
   "pygments_lexer": "ipython3",
   "version": "3.10.11"
  }
 },
 "nbformat": 4,
 "nbformat_minor": 2
}
