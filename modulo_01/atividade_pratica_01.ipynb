{
 "cells": [
  {
   "cell_type": "markdown",
   "metadata": {},
   "source": [
    "1. Escreva um programa que leia uma lista de números inteiros do usuário e exiba a soma de todos os números ímpares na lista."
   ]
  },
  {
   "cell_type": "code",
   "execution_count": 4,
   "metadata": {},
   "outputs": [],
   "source": [
    "def soma_impares(numeros):\n",
    "    return sum( num for num in numeros if num % 2 != 0 )"
   ]
  },
  {
   "cell_type": "code",
   "execution_count": 5,
   "metadata": {},
   "outputs": [],
   "source": [
    "numeros = list(map(int, input('Digite uma lista de números inteiros separados por espaço: ').split()))"
   ]
  },
  {
   "cell_type": "code",
   "execution_count": 6,
   "metadata": {},
   "outputs": [
    {
     "data": {
      "text/plain": [
       "[1, 2, 3, 4, 5, 6]"
      ]
     },
     "execution_count": 6,
     "metadata": {},
     "output_type": "execute_result"
    }
   ],
   "source": [
    "numeros"
   ]
  },
  {
   "cell_type": "code",
   "execution_count": 7,
   "metadata": {},
   "outputs": [],
   "source": [
    "soma = soma_impares(numeros)"
   ]
  },
  {
   "cell_type": "code",
   "execution_count": 8,
   "metadata": {},
   "outputs": [
    {
     "name": "stdout",
     "output_type": "stream",
     "text": [
      "A soma de todos os números ímpares na lista é: 9\n"
     ]
    }
   ],
   "source": [
    "print(f'A soma de todos os números ímpares na lista é: {soma}')"
   ]
  },
  {
   "cell_type": "markdown",
   "metadata": {},
   "source": [
    "2. Escreva um programa que crie uma lista de números inteiros aleatórios e, em seguida, imprima o maior e o menor número da lista. Para criar uma lista de números inteiros aleatórios, você pode usar a biblioteca random do Python."
   ]
  },
  {
   "cell_type": "code",
   "execution_count": 12,
   "metadata": {},
   "outputs": [],
   "source": [
    "import random"
   ]
  },
  {
   "cell_type": "code",
   "execution_count": 13,
   "metadata": {},
   "outputs": [],
   "source": [
    "# Gerando lista\n",
    "def gerar_lista(tamanho, limite_inferior, limite_superior):\n",
    "    return [random.randint(limite_inferior, limite_superior) for _ in range(tamanho)]"
   ]
  },
  {
   "cell_type": "code",
   "execution_count": 14,
   "metadata": {},
   "outputs": [],
   "source": [
    "# Definindo as características da lista\n",
    "tamanho_lista = int(input(\"Digite o tamanho da lista: \"))\n",
    "limite_inferior = int(input(\"Digite o limite inferior: \"))\n",
    "limite_superior = int(input(\"Digite o limite superior: \"))"
   ]
  },
  {
   "cell_type": "code",
   "execution_count": 15,
   "metadata": {},
   "outputs": [],
   "source": [
    "numeros = gerar_lista(tamanho_lista, limite_inferior, limite_superior)"
   ]
  },
  {
   "cell_type": "code",
   "execution_count": 16,
   "metadata": {},
   "outputs": [],
   "source": [
    "maior_numero = max(numeros)\n",
    "menor_numero = min(numeros)"
   ]
  },
  {
   "cell_type": "code",
   "execution_count": 17,
   "metadata": {},
   "outputs": [
    {
     "name": "stdout",
     "output_type": "stream",
     "text": [
      "Lista gerada: [10, 7, 28, 55, 42, 36, 44, 3, 39, 15, 36, 12, 54, 18, 4, 50, 38, 9, 41, 34]\n",
      "O menor número é: 3\n",
      "O maior número é: 55\n"
     ]
    }
   ],
   "source": [
    "print(f'Lista gerada: {numeros}')\n",
    "print(f'O menor número é: {menor_numero}')\n",
    "print(f'O maior número é: {maior_numero}')"
   ]
  },
  {
   "cell_type": "markdown",
   "metadata": {},
   "source": [
    "Versão professor"
   ]
  },
  {
   "cell_type": "code",
   "execution_count": null,
   "metadata": {},
   "outputs": [],
   "source": [
    "import random"
   ]
  },
  {
   "cell_type": "code",
   "execution_count": 18,
   "metadata": {},
   "outputs": [],
   "source": [
    "lista_numero = []"
   ]
  },
  {
   "cell_type": "code",
   "execution_count": 19,
   "metadata": {},
   "outputs": [
    {
     "name": "stdout",
     "output_type": "stream",
     "text": [
      "Lista de números:  [90, 84, 64, 87, 37, 26, 43, 5, 18]\n"
     ]
    }
   ],
   "source": [
    "for i in range(1,10):\n",
    "    lista_numero.append(random.randint(1,100))\n",
    "\n",
    "print('Lista de números: ', lista_numero)"
   ]
  },
  {
   "cell_type": "code",
   "execution_count": 20,
   "metadata": {},
   "outputs": [],
   "source": [
    "menor_numero = min(lista_numero)\n",
    "maior_numero = max(lista_numero)"
   ]
  },
  {
   "cell_type": "code",
   "execution_count": 21,
   "metadata": {},
   "outputs": [
    {
     "name": "stdout",
     "output_type": "stream",
     "text": [
      "O menor número é: 5\n",
      "O Maior número é: 90\n"
     ]
    }
   ],
   "source": [
    "print(f'O menor número é: {menor_numero}')\n",
    "print(f'O Maior número é: {maior_numero}')"
   ]
  }
 ],
 "metadata": {
  "kernelspec": {
   "display_name": "cienciaDeDados",
   "language": "python",
   "name": "cienciadedados"
  },
  "language_info": {
   "codemirror_mode": {
    "name": "ipython",
    "version": 3
   },
   "file_extension": ".py",
   "mimetype": "text/x-python",
   "name": "python",
   "nbconvert_exporter": "python",
   "pygments_lexer": "ipython3",
   "version": "3.10.11"
  }
 },
 "nbformat": 4,
 "nbformat_minor": 2
}
