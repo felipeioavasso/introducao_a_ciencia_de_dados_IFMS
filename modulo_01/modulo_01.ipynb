{
 "cells": [
  {
   "cell_type": "markdown",
   "metadata": {},
   "source": [
    "Variáveis\n",
    "\n",
    "string\n",
    "int\n",
    "float\n",
    "bool"
   ]
  },
  {
   "cell_type": "code",
   "execution_count": null,
   "metadata": {},
   "outputs": [],
   "source": [
    "\n",
    "# Tipo string\n",
    "nome_completo = \"Felipe Santos\"\n",
    "print(nome_completo)\n",
    "print(type(nome_completo))\n",
    "\n",
    "# Tipo int\n",
    "idade = 34\n",
    "print(idade, type(idade))\n",
    "\n",
    "# Float\n",
    "altura = 1.80\n",
    "print(altura, type(altura))\n",
    "\n",
    "# Bool\n",
    "is_maior_idade = True\n",
    "print(is_maior_idade, type(is_maior_idade))"
   ]
  },
  {
   "cell_type": "code",
   "execution_count": null,
   "metadata": {},
   "outputs": [],
   "source": [
    "nome: str\n",
    "idade: int\n",
    "print(__annotations__)"
   ]
  },
  {
   "cell_type": "markdown",
   "metadata": {},
   "source": [
    "Entrada de Informações via teclado"
   ]
  },
  {
   "cell_type": "code",
   "execution_count": null,
   "metadata": {},
   "outputs": [],
   "source": [
    "nome = input('Informe o nome: ')\n",
    "print(nome)\n",
    "idade = int(input('Digite sua idade: '))\n",
    "print(idade, type(idade))"
   ]
  },
  {
   "cell_type": "markdown",
   "metadata": {},
   "source": [
    "Lista"
   ]
  },
  {
   "cell_type": "code",
   "execution_count": 10,
   "metadata": {},
   "outputs": [
    {
     "name": "stdout",
     "output_type": "stream",
     "text": [
      "[8, 9, 4]\n",
      "8\n",
      "9\n",
      "4\n",
      "[10, 9, 4, 9.4]\n",
      "[10, 9, 4, 'Ana']\n"
     ]
    }
   ],
   "source": [
    "lista_de_notas = [8,9,4]\n",
    "print(lista_de_notas)\n",
    "print(lista_de_notas[0])\n",
    "print(lista_de_notas[1])\n",
    "print(lista_de_notas[2])\n",
    "lista_de_notas[0] = 10\n",
    "lista_de_notas.append(9.4)\n",
    "print(lista_de_notas)\n",
    "\n",
    "lista_de_notas[3] = 'Ana'\n",
    "print(lista_de_notas)"
   ]
  },
  {
   "cell_type": "markdown",
   "metadata": {},
   "source": [
    "Tupla"
   ]
  },
  {
   "cell_type": "code",
   "execution_count": 12,
   "metadata": {},
   "outputs": [
    {
     "name": "stdout",
     "output_type": "stream",
     "text": [
      "('Manga', 'Goiabada')\n"
     ]
    }
   ],
   "source": [
    "# Tuplas não aceitam modificações\n",
    "frutas = ('Manga',)\n",
    "frutas = ('Manga', 'Goiabada')\n",
    "print(frutas)"
   ]
  },
  {
   "cell_type": "markdown",
   "metadata": {},
   "source": [
    "Dicionário"
   ]
  },
  {
   "cell_type": "code",
   "execution_count": 17,
   "metadata": {},
   "outputs": [
    {
     "name": "stdout",
     "output_type": "stream",
     "text": [
      "{'nome': 'Felipe', 'sobrenome': 'Santos', 0: 'versão: 1.0'}\n",
      "{'nome': 'Felipe', 'sobrenome': 'Santos', 0: 'versão: 1.0', 'idade': 34}\n",
      "{'nome': 'Felipe', 'sobrenome': 'Santos', 0: 'versão: 1.0', 'idade': 34, 'carro': {'modelo': 'Uno', 'Motor': '1.0'}}\n",
      "Felipe\n",
      "34\n",
      "{'modelo': 'Uno', 'Motor': '1.0'}\n"
     ]
    }
   ],
   "source": [
    "dic = {'nome': 'Felipe', 'sobrenome': 'Santos', 0: 'versão: 1.0'}\n",
    "print(dic)\n",
    "dic['idade'] = 34\n",
    "print(dic)\n",
    "\n",
    "dic['carro'] = {'modelo': 'Uno', 'Motor': \"1.0\"}\n",
    "print(dic)\n",
    "\n",
    "print(dic['nome'])\n",
    "print(dic['idade'])\n",
    "print(dic['carro'])"
   ]
  },
  {
   "cell_type": "markdown",
   "metadata": {},
   "source": [
    "Declaração de continua na próxima linha"
   ]
  },
  {
   "cell_type": "code",
   "execution_count": 26,
   "metadata": {},
   "outputs": [
    {
     "data": {
      "text/plain": [
       "17"
      ]
     },
     "execution_count": 26,
     "metadata": {},
     "output_type": "execute_result"
    }
   ],
   "source": [
    "# Usar a barra invertida\n",
    "calc = 2 + 5 * 3\n",
    "calc = 2 + \\\n",
    "       5 * 3\n",
    "#print(calc)\n",
    "calc"
   ]
  },
  {
   "cell_type": "markdown",
   "metadata": {},
   "source": [
    "Expressões Matemáticas\n",
    "\n",
    "# * multiplicação\n",
    "# + adição\n",
    "# - subtração\n",
    "# / divisão\n",
    "# ** exponencial"
   ]
  },
  {
   "cell_type": "code",
   "execution_count": 24,
   "metadata": {},
   "outputs": [],
   "source": [
    "calc = 2 * 2\n",
    "calc = 2 + 2\n",
    "calc = 2 - 2\n",
    "calc = 2 / 2\n",
    "\n",
    "calc = (2*2) + 3"
   ]
  },
  {
   "cell_type": "markdown",
   "metadata": {},
   "source": [
    "Expressões Booleanas"
   ]
  },
  {
   "cell_type": "code",
   "execution_count": 28,
   "metadata": {},
   "outputs": [
    {
     "data": {
      "text/plain": [
       "True"
      ]
     },
     "execution_count": 28,
     "metadata": {},
     "output_type": "execute_result"
    }
   ],
   "source": [
    "# == igualdade\n",
    "# > maior\n",
    "# < menor\n",
    "# >= maior ou igual\n",
    "# <= menor ou igual\n",
    "# != diferente\n",
    "\n",
    "#15 > 10\n",
    "a = 15 > 10\n",
    "a\n",
    "\n",
    "b = 10 != 5\n",
    "b\n",
    "\n"
   ]
  },
  {
   "cell_type": "markdown",
   "metadata": {},
   "source": [
    "Estrutura condicional"
   ]
  },
  {
   "cell_type": "code",
   "execution_count": 29,
   "metadata": {},
   "outputs": [
    {
     "name": "stdout",
     "output_type": "stream",
     "text": [
      "Condição falsa\n"
     ]
    }
   ],
   "source": [
    "a = 2\n",
    "\n",
    "if a > 10:\n",
    "    print('Condição verdadeira')\n",
    "else:\n",
    "    print('Condição falsa')"
   ]
  },
  {
   "cell_type": "code",
   "execution_count": 32,
   "metadata": {},
   "outputs": [
    {
     "name": "stdout",
     "output_type": "stream",
     "text": [
      "Condição falsa\n"
     ]
    }
   ],
   "source": [
    "a = 6\n",
    "\n",
    "if a > 10:\n",
    "    print('Condição verdadeira')\n",
    "elif a > 5:\n",
    "    print('Condição falsa')\n",
    "elif a > 2:\n",
    "    print('a')\n",
    "else:\n",
    "    print('nenhuma condição')"
   ]
  },
  {
   "cell_type": "markdown",
   "metadata": {},
   "source": [
    "Estrutura de Repetição"
   ]
  },
  {
   "cell_type": "code",
   "execution_count": 33,
   "metadata": {},
   "outputs": [
    {
     "name": "stdout",
     "output_type": "stream",
     "text": [
      "1\n",
      "2\n",
      "3\n"
     ]
    }
   ],
   "source": [
    "lista = [1,2,3]\n",
    "\n",
    "for x in lista:\n",
    "    print(x)"
   ]
  },
  {
   "cell_type": "code",
   "execution_count": 34,
   "metadata": {},
   "outputs": [
    {
     "name": "stdout",
     "output_type": "stream",
     "text": [
      "0\n",
      "1\n",
      "2\n",
      "3\n",
      "4\n",
      "5\n",
      "6\n",
      "7\n",
      "8\n",
      "9\n"
     ]
    }
   ],
   "source": [
    "for x in range(10):\n",
    "    print(x)"
   ]
  },
  {
   "cell_type": "code",
   "execution_count": 35,
   "metadata": {},
   "outputs": [
    {
     "name": "stdout",
     "output_type": "stream",
     "text": [
      "1\n",
      "2\n",
      "3\n",
      "4\n",
      "5\n",
      "6\n",
      "7\n",
      "8\n",
      "9\n"
     ]
    }
   ],
   "source": [
    "for x in range(1,10):\n",
    "    print(x)"
   ]
  },
  {
   "cell_type": "code",
   "execution_count": 36,
   "metadata": {},
   "outputs": [
    {
     "name": "stdout",
     "output_type": "stream",
     "text": [
      "1\n",
      "3\n",
      "5\n",
      "7\n",
      "9\n"
     ]
    }
   ],
   "source": [
    "for x in range(1,10,2):\n",
    "    print(x)"
   ]
  },
  {
   "cell_type": "code",
   "execution_count": null,
   "metadata": {},
   "outputs": [],
   "source": [
    "for x in range(1,10,-2):\n",
    "    print(x)"
   ]
  },
  {
   "cell_type": "code",
   "execution_count": 38,
   "metadata": {},
   "outputs": [
    {
     "name": "stdout",
     "output_type": "stream",
     "text": [
      "manga\n",
      "goiaba\n",
      "pera\n",
      "0 manga\n",
      "1 goiaba\n",
      "2 pera\n"
     ]
    }
   ],
   "source": [
    "frutas = ['manga', 'goiaba','pera']\n",
    "\n",
    "for fruta in frutas:\n",
    "    print(fruta)\n",
    "\n",
    "for i, fruta in enumerate(lista):\n",
    "    print(i, fruta)"
   ]
  },
  {
   "cell_type": "markdown",
   "metadata": {},
   "source": [
    "Comentários no código"
   ]
  },
  {
   "cell_type": "code",
   "execution_count": null,
   "metadata": {},
   "outputs": [],
   "source": [
    "# Comentário"
   ]
  },
  {
   "cell_type": "markdown",
   "metadata": {},
   "source": [
    "Funções e DocString"
   ]
  },
  {
   "cell_type": "code",
   "execution_count": 39,
   "metadata": {},
   "outputs": [
    {
     "data": {
      "text/plain": [
       "12"
      ]
     },
     "execution_count": 39,
     "metadata": {},
     "output_type": "execute_result"
    }
   ],
   "source": [
    "def soma(a,b):\n",
    "    return a + b\n",
    "\n",
    "s = soma(10,2)\n",
    "s"
   ]
  },
  {
   "cell_type": "code",
   "execution_count": 40,
   "metadata": {},
   "outputs": [
    {
     "data": {
      "text/plain": [
       "12"
      ]
     },
     "execution_count": 40,
     "metadata": {},
     "output_type": "execute_result"
    }
   ],
   "source": [
    "def soma_dois_valores( a: int, b: int) -> int:\n",
    "    \"\"\" DocString \"\"\"\n",
    "    return a + b\n",
    "\n",
    "s = soma(10,2)\n",
    "s"
   ]
  },
  {
   "cell_type": "markdown",
   "metadata": {},
   "source": [
    "Arquivos"
   ]
  },
  {
   "cell_type": "code",
   "execution_count": 42,
   "metadata": {},
   "outputs": [],
   "source": [
    "f = open('teste.txt', 'a')\n",
    "f.write('Olá mundo\\n')\n",
    "f.close()"
   ]
  },
  {
   "cell_type": "code",
   "execution_count": 43,
   "metadata": {},
   "outputs": [
    {
     "name": "stdout",
     "output_type": "stream",
     "text": [
      "Olá mundo\n",
      "\n"
     ]
    }
   ],
   "source": [
    "f = open('teste.txt', 'r')\n",
    "s = f.read()\n",
    "f.close()\n",
    "print(s)"
   ]
  },
  {
   "cell_type": "code",
   "execution_count": 44,
   "metadata": {},
   "outputs": [],
   "source": [
    "f = open('teste.txt', 'w')\n",
    "f.write('Sobreescrevendo o arquivo\\n')\n",
    "f.close()"
   ]
  },
  {
   "cell_type": "code",
   "execution_count": 45,
   "metadata": {},
   "outputs": [],
   "source": [
    "with open('teste.txt', 'a') as f:\n",
    "    f.write('Olá, Mundo!\\n')"
   ]
  },
  {
   "cell_type": "markdown",
   "metadata": {},
   "source": [
    "Exceções"
   ]
  },
  {
   "cell_type": "code",
   "execution_count": 47,
   "metadata": {},
   "outputs": [
    {
     "name": "stdout",
     "output_type": "stream",
     "text": [
      "Sobreescrevendo o arquivo\n",
      "Olá, Mundo!\n",
      "\n"
     ]
    }
   ],
   "source": [
    "try:\n",
    "    f = open('teste.txt', 'r')\n",
    "    s = f.read()\n",
    "    f.close()\n",
    "    print(s)\n",
    "except:\n",
    "    print('Nâo foi possível abrir o arquivo')"
   ]
  },
  {
   "cell_type": "code",
   "execution_count": null,
   "metadata": {},
   "outputs": [],
   "source": []
  }
 ],
 "metadata": {
  "kernelspec": {
   "display_name": "cienciaDeDados",
   "language": "python",
   "name": "cienciadedados"
  },
  "language_info": {
   "codemirror_mode": {
    "name": "ipython",
    "version": 3
   },
   "file_extension": ".py",
   "mimetype": "text/x-python",
   "name": "python",
   "nbconvert_exporter": "python",
   "pygments_lexer": "ipython3",
   "version": "3.10.11"
  }
 },
 "nbformat": 4,
 "nbformat_minor": 2
}
